{
 "cells": [
  {
   "cell_type": "code",
   "execution_count": 2,
   "id": "16e139b0",
   "metadata": {},
   "outputs": [
    {
     "name": "stdout",
     "output_type": "stream",
     "text": [
      "Requirement already satisfied: moviepy in c:\\users\\morae\\miniconda3\\envs\\s202\\lib\\site-packages (2.2.1)\n",
      "Requirement already satisfied: decorator<6.0,>=4.0.2 in c:\\users\\morae\\miniconda3\\envs\\s202\\lib\\site-packages (from moviepy) (5.1.1)\n",
      "Requirement already satisfied: imageio<3.0,>=2.5 in c:\\users\\morae\\miniconda3\\envs\\s202\\lib\\site-packages (from moviepy) (2.37.0)\n",
      "Requirement already satisfied: imageio_ffmpeg>=0.2.0 in c:\\users\\morae\\miniconda3\\envs\\s202\\lib\\site-packages (from moviepy) (0.6.0)\n",
      "Requirement already satisfied: numpy>=1.25.0 in c:\\users\\morae\\miniconda3\\envs\\s202\\lib\\site-packages (from moviepy) (2.2.3)\n",
      "Requirement already satisfied: proglog<=1.0.0 in c:\\users\\morae\\miniconda3\\envs\\s202\\lib\\site-packages (from moviepy) (0.1.12)\n",
      "Requirement already satisfied: python-dotenv>=0.10 in c:\\users\\morae\\miniconda3\\envs\\s202\\lib\\site-packages (from moviepy) (1.1.0)\n",
      "Requirement already satisfied: pillow<12.0,>=9.2.0 in c:\\users\\morae\\miniconda3\\envs\\s202\\lib\\site-packages (from moviepy) (11.1.0)\n",
      "Requirement already satisfied: tqdm in c:\\users\\morae\\miniconda3\\envs\\s202\\lib\\site-packages (from proglog<=1.0.0->moviepy) (4.67.1)\n",
      "Requirement already satisfied: colorama in c:\\users\\morae\\miniconda3\\envs\\s202\\lib\\site-packages (from tqdm->proglog<=1.0.0->moviepy) (0.4.6)\n"
     ]
    },
    {
     "ename": "ModuleNotFoundError",
     "evalue": "No module named 'moviepy.editor'",
     "output_type": "error",
     "traceback": [
      "\u001b[31m---------------------------------------------------------------------------\u001b[39m",
      "\u001b[31mModuleNotFoundError\u001b[39m                       Traceback (most recent call last)",
      "\u001b[36mCell\u001b[39m\u001b[36m \u001b[39m\u001b[32mIn[2]\u001b[39m\u001b[32m, line 3\u001b[39m\n\u001b[32m      1\u001b[39m \u001b[38;5;66;03m# bibliotecas\u001b[39;00m\n\u001b[32m      2\u001b[39m get_ipython().system(\u001b[33m'\u001b[39m\u001b[33mpip install moviepy\u001b[39m\u001b[33m'\u001b[39m)\n\u001b[32m----> \u001b[39m\u001b[32m3\u001b[39m \u001b[38;5;28;01mimport\u001b[39;00m\u001b[38;5;250m \u001b[39m\u001b[34;01mmoviepy\u001b[39;00m\u001b[34;01m.\u001b[39;00m\u001b[34;01meditor\u001b[39;00m\u001b[38;5;250m \u001b[39m\u001b[38;5;28;01mas\u001b[39;00m\u001b[38;5;250m \u001b[39m\u001b[34;01mmpe\u001b[39;00m\n\u001b[32m      4\u001b[39m \u001b[38;5;28;01mimport\u001b[39;00m\u001b[38;5;250m \u001b[39m\u001b[34;01mmoviepy\u001b[39;00m\u001b[34;01m.\u001b[39;00m\u001b[34;01mvideo\u001b[39;00m\u001b[34;01m.\u001b[39;00m\u001b[34;01mfx\u001b[39;00m\u001b[34;01m.\u001b[39;00m\u001b[34;01mall\u001b[39;00m\u001b[38;5;250m \u001b[39m\u001b[38;5;28;01mas\u001b[39;00m\u001b[38;5;250m \u001b[39m\u001b[34;01mvfx\u001b[39;00m\n\u001b[32m      5\u001b[39m \u001b[38;5;28;01mfrom\u001b[39;00m\u001b[38;5;250m \u001b[39m\u001b[34;01mmoviepy\u001b[39;00m\u001b[34;01m.\u001b[39;00m\u001b[34;01maudio\u001b[39;00m\u001b[34;01m.\u001b[39;00m\u001b[34;01mfx\u001b[39;00m\u001b[34;01m.\u001b[39;00m\u001b[34;01mall\u001b[39;00m\u001b[38;5;250m \u001b[39m\u001b[38;5;28;01mimport\u001b[39;00m audio_fadeout\n",
      "\u001b[31mModuleNotFoundError\u001b[39m: No module named 'moviepy.editor'"
     ]
    }
   ],
   "source": [
    "# bibliotecas\n",
    "!pip install moviepy\n",
    "import moviepy.editor as mpe\n",
    "import moviepy.video.fx.all as vfx\n",
    "from moviepy.audio.fx.all import audio_fadeout"
   ]
  },
  {
   "cell_type": "code",
   "execution_count": 1,
   "id": "c995e32a",
   "metadata": {},
   "outputs": [
    {
     "ename": "NameError",
     "evalue": "name 'mpe' is not defined",
     "output_type": "error",
     "traceback": [
      "\u001b[31m---------------------------------------------------------------------------\u001b[39m",
      "\u001b[31mNameError\u001b[39m                                 Traceback (most recent call last)",
      "\u001b[36mCell\u001b[39m\u001b[36m \u001b[39m\u001b[32mIn[1]\u001b[39m\u001b[32m, line 1\u001b[39m\n\u001b[32m----> \u001b[39m\u001b[32m1\u001b[39m video = \u001b[43mmpe\u001b[49m.VideoFileClip(\u001b[33m\"\u001b[39m\u001b[33mvideo.mp4\u001b[39m\u001b[33m\"\u001b[39m) \u001b[38;5;66;03m# abre o vídeo\u001b[39;00m\n\u001b[32m      2\u001b[39m video.ipython_display(width=\u001b[32m480\u001b[39m, maxduration=\u001b[32m180\u001b[39m) \u001b[38;5;66;03m# mostra o vídeo\u001b[39;00m\n",
      "\u001b[31mNameError\u001b[39m: name 'mpe' is not defined"
     ]
    }
   ],
   "source": [
    "video = mpe.VideoFileClip(\"video.mp4\") # abre o vídeo\n",
    "video.ipython_display(width=480, maxduration=180) # mostra o vídeo"
   ]
  },
  {
   "cell_type": "code",
   "execution_count": null,
   "id": "f6d1cbf7",
   "metadata": {},
   "outputs": [],
   "source": [
    "tempo = 20  # tempo para inverter a imagem\n",
    "\n",
    "partes = []  # lista para os subclipes\n",
    "for inicio in range(0, int(video.duration), tempo): # divide o video e inverte a imagem das partes\n",
    "    fim = min(inicio + tempo, video.duration) # roda até o final do vídeo\n",
    "    subclip = video.subclip(inicio, fim)\n",
    "    if inicio // tempo % 2 == 1: # intervalo ímpar, inverte a imagem\n",
    "        subclip = vfx.mirror_x(subclip)\n",
    "    partes.append(subclip)\n",
    "\n",
    "video1 = mpe.concatenate_videoclips(partes) # junta os subclipes \n",
    "video1.ipython_display(width=480, maxduration=180)"
   ]
  },
  {
   "cell_type": "code",
   "execution_count": null,
   "id": "33273911",
   "metadata": {},
   "outputs": [],
   "source": [
    "fadeout = video1.duration - 10 # tempo para diminuir o som\n",
    "video2 = video1.set_audio(video1.audio.fx(audio_fadeout, fadeout)) # aplica o fadeout\n",
    "video2.ipython_display(width=480, maxduration=180)"
   ]
  },
  {
   "cell_type": "code",
   "execution_count": null,
   "id": "3bc28306",
   "metadata": {},
   "outputs": [],
   "source": [
    "corte_inicio = 60  # segundos\n",
    "corte_fim = 80  # segundos\n",
    "\n",
    "pre_corte = video2.subclip(0, corte_inicio)  # Primeira parte do vídeo antes do corte\n",
    "corte = video2.subclip(corte_inicio, corte_fim)  # Parte cortada de 60 a 80 segundos\n",
    "pos_corte = video2.subclip(corte_fim)  # Parte restante do vídeo após o corte"
   ]
  },
  {
   "cell_type": "code",
   "execution_count": null,
   "id": "000b4bd2",
   "metadata": {},
   "outputs": [],
   "source": [
    "resultado = mpe.concatenate_videoclips([pre_corte, pos_corte, corte])\n",
    "resultado.write_videofile(\"resultado.mp4\")\n",
    "resultado.ipython_display(width=480, maxduration=180)"
   ]
  }
 ],
 "metadata": {
  "kernelspec": {
   "display_name": "Python 3 (ipykernel)",
   "language": "python",
   "name": "python3"
  },
  "language_info": {
   "codemirror_mode": {
    "name": "ipython",
    "version": 3
   },
   "file_extension": ".py",
   "mimetype": "text/x-python",
   "name": "python",
   "nbconvert_exporter": "python",
   "pygments_lexer": "ipython3",
   "version": "3.13.2"
  }
 },
 "nbformat": 4,
 "nbformat_minor": 5
}
