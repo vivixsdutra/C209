{
 "cells": [
  {
   "cell_type": "code",
   "execution_count": 1,
   "id": "8899f03a",
   "metadata": {},
   "outputs": [
    {
     "name": "stdout",
     "output_type": "stream",
     "text": [
      "Requirement already satisfied: moviepy in c:\\users\\morae\\appdata\\local\\programs\\python\\python313\\lib\\site-packages (2.2.1)\n",
      "Requirement already satisfied: decorator<6.0,>=4.0.2 in c:\\users\\morae\\appdata\\local\\programs\\python\\python313\\lib\\site-packages (from moviepy) (5.2.1)\n",
      "Requirement already satisfied: imageio<3.0,>=2.5 in c:\\users\\morae\\appdata\\local\\programs\\python\\python313\\lib\\site-packages (from moviepy) (2.37.0)\n",
      "Requirement already satisfied: imageio_ffmpeg>=0.2.0 in c:\\users\\morae\\appdata\\local\\programs\\python\\python313\\lib\\site-packages (from moviepy) (0.6.0)\n",
      "Requirement already satisfied: numpy>=1.25.0 in c:\\users\\morae\\appdata\\local\\programs\\python\\python313\\lib\\site-packages (from moviepy) (2.2.4)\n",
      "Requirement already satisfied: proglog<=1.0.0 in c:\\users\\morae\\appdata\\local\\programs\\python\\python313\\lib\\site-packages (from moviepy) (0.1.12)\n",
      "Requirement already satisfied: python-dotenv>=0.10 in c:\\users\\morae\\appdata\\local\\programs\\python\\python313\\lib\\site-packages (from moviepy) (1.1.0)\n",
      "Requirement already satisfied: pillow<12.0,>=9.2.0 in c:\\users\\morae\\appdata\\local\\programs\\python\\python313\\lib\\site-packages (from moviepy) (11.1.0)\n",
      "Requirement already satisfied: tqdm in c:\\users\\morae\\appdata\\local\\programs\\python\\python313\\lib\\site-packages (from proglog<=1.0.0->moviepy) (4.67.1)\n",
      "Requirement already satisfied: colorama in c:\\users\\morae\\appdata\\local\\programs\\python\\python313\\lib\\site-packages (from tqdm->proglog<=1.0.0->moviepy) (0.4.6)\n"
     ]
    },
    {
     "name": "stderr",
     "output_type": "stream",
     "text": [
      "\n",
      "[notice] A new release of pip is available: 25.0.1 -> 25.1.1\n",
      "[notice] To update, run: python.exe -m pip install --upgrade pip\n"
     ]
    }
   ],
   "source": [
    "# Instalar moviepy\n",
    "!pip install moviepy"
   ]
  },
  {
   "cell_type": "code",
   "execution_count": 1,
   "id": "16e139b0",
   "metadata": {},
   "outputs": [
    {
     "ename": "ModuleNotFoundError",
     "evalue": "No module named 'moviepy.editor'",
     "output_type": "error",
     "traceback": [
      "\u001b[1;31m---------------------------------------------------------------------------\u001b[0m",
      "\u001b[1;31mModuleNotFoundError\u001b[0m                       Traceback (most recent call last)",
      "Cell \u001b[1;32mIn[1], line 2\u001b[0m\n\u001b[0;32m      1\u001b[0m \u001b[38;5;66;03m# bibliotecas\u001b[39;00m\n\u001b[1;32m----> 2\u001b[0m \u001b[38;5;28;01mimport\u001b[39;00m \u001b[38;5;21;01mmoviepy\u001b[39;00m\u001b[38;5;21;01m.\u001b[39;00m\u001b[38;5;21;01meditor\u001b[39;00m \u001b[38;5;28;01mas\u001b[39;00m \u001b[38;5;21;01mmpe\u001b[39;00m\n\u001b[0;32m      3\u001b[0m \u001b[38;5;28;01mimport\u001b[39;00m \u001b[38;5;21;01mmoviepy\u001b[39;00m\u001b[38;5;21;01m.\u001b[39;00m\u001b[38;5;21;01mvideo\u001b[39;00m\u001b[38;5;21;01m.\u001b[39;00m\u001b[38;5;21;01mfx\u001b[39;00m\u001b[38;5;21;01m.\u001b[39;00m\u001b[38;5;21;01mall\u001b[39;00m \u001b[38;5;28;01mas\u001b[39;00m \u001b[38;5;21;01mvfx\u001b[39;00m\n\u001b[0;32m      4\u001b[0m \u001b[38;5;28;01mfrom\u001b[39;00m \u001b[38;5;21;01mmoviepy\u001b[39;00m\u001b[38;5;21;01m.\u001b[39;00m\u001b[38;5;21;01maudio\u001b[39;00m\u001b[38;5;21;01m.\u001b[39;00m\u001b[38;5;21;01mfx\u001b[39;00m\u001b[38;5;21;01m.\u001b[39;00m\u001b[38;5;21;01mall\u001b[39;00m \u001b[38;5;28;01mimport\u001b[39;00m audio_fadeout\n",
      "\u001b[1;31mModuleNotFoundError\u001b[0m: No module named 'moviepy.editor'"
     ]
    }
   ],
   "source": [
    "# bibliotecas\n",
    "import moviepy.editor as mpe\n",
    "import moviepy.video.fx.all as vfx\n",
    "from moviepy.audio.fx.all import audio_fadeout"
   ]
  },
  {
   "cell_type": "code",
   "execution_count": null,
   "id": "c995e32a",
   "metadata": {},
   "outputs": [],
   "source": [
    "video = mpe.VideoFileClip(\"video.mp4\") # abre o vídeo\n",
    "video.ipython_display(width=480, maxduration=180) # mostra o vídeo"
   ]
  },
  {
   "cell_type": "code",
   "execution_count": null,
   "id": "f6d1cbf7",
   "metadata": {},
   "outputs": [],
   "source": [
    "tempo = 20  # tempo para inverter a imagem\n",
    "\n",
    "partes = []  # lista para os subclipes\n",
    "for inicio in range(0, int(video.duration), tempo): # divide o video e inverte a imagem das partes\n",
    "    fim = min(inicio + tempo, video.duration) # roda até o final do vídeo\n",
    "    subclip = video.subclip(inicio, fim)\n",
    "    if inicio // tempo % 2 == 1: # intervalo ímpar, inverte a imagem\n",
    "        subclip = vfx.mirror_x(subclip)\n",
    "    partes.append(subclip)\n",
    "\n",
    "video1 = mpe.concatenate_videoclips(partes) # junta os subclipes \n",
    "video1.ipython_display(width=480, maxduration=180)"
   ]
  },
  {
   "cell_type": "code",
   "execution_count": null,
   "id": "33273911",
   "metadata": {},
   "outputs": [],
   "source": [
    "fadeout = video1.duration - 10 # tempo para diminuir o som\n",
    "video2 = video1.set_audio(video1.audio.fx(audio_fadeout, fadeout)) # aplica o fadeout\n",
    "video2.ipython_display(width=480, maxduration=180)"
   ]
  },
  {
   "cell_type": "code",
   "execution_count": null,
   "id": "3bc28306",
   "metadata": {},
   "outputs": [],
   "source": [
    "corte_inicio = 60  # segundos\n",
    "corte_fim = 80  # segundos\n",
    "\n",
    "pre_corte = video2.subclip(0, corte_inicio)  # Primeira parte do vídeo antes do corte\n",
    "corte = video2.subclip(corte_inicio, corte_fim)  # Parte cortada de 60 a 80 segundos\n",
    "pos_corte = video2.subclip(corte_fim)  # Parte restante do vídeo após o corte"
   ]
  },
  {
   "cell_type": "code",
   "execution_count": null,
   "id": "000b4bd2",
   "metadata": {},
   "outputs": [],
   "source": [
    "resultado = mpe.concatenate_videoclips([pre_corte, pos_corte, corte])\n",
    "resultado.write_videofile(\"resultado.mp4\")\n",
    "resultado.ipython_display(width=480, maxduration=180)"
   ]
  },
  {
   "cell_type": "markdown",
   "id": "d82d185a",
   "metadata": {},
   "source": [
    "Se você já instalou o `moviepy`, reiniciou o kernel e ainda recebe o erro `ModuleNotFoundError`, tente o seguinte:\n",
    "\n",
    "- Confirme se está usando o mesmo ambiente Python para instalar e rodar o notebook.\n",
    "- Execute o comando abaixo em uma célula para verificar o caminho do Python em uso:"
   ]
  },
  {
   "cell_type": "code",
   "execution_count": 2,
   "id": "3512f012",
   "metadata": {},
   "outputs": [
    {
     "name": "stdout",
     "output_type": "stream",
     "text": [
      "c:\\Users\\morae\\miniconda3\\envs\\S202\\python.exe\n"
     ]
    }
   ],
   "source": [
    "import sys\n",
    "print(sys.executable)"
   ]
  },
  {
   "cell_type": "markdown",
   "id": "384f11e3",
   "metadata": {},
   "source": [
    "Se o caminho exibido não for o mesmo ambiente onde você instalou o pacote, instale o `moviepy` diretamente neste ambiente usando:"
   ]
  },
  {
   "cell_type": "code",
   "execution_count": 3,
   "id": "9c5e7967",
   "metadata": {},
   "outputs": [
    {
     "name": "stdout",
     "output_type": "stream",
     "text": [
      "Requirement already satisfied: moviepy in c:\\users\\morae\\miniconda3\\envs\\s202\\lib\\site-packages (2.2.1)\n",
      "Requirement already satisfied: decorator<6.0,>=4.0.2 in c:\\users\\morae\\miniconda3\\envs\\s202\\lib\\site-packages (from moviepy) (5.1.1)\n",
      "Requirement already satisfied: imageio<3.0,>=2.5 in c:\\users\\morae\\miniconda3\\envs\\s202\\lib\\site-packages (from moviepy) (2.37.0)\n",
      "Requirement already satisfied: imageio_ffmpeg>=0.2.0 in c:\\users\\morae\\miniconda3\\envs\\s202\\lib\\site-packages (from moviepy) (0.6.0)\n",
      "Requirement already satisfied: numpy>=1.25.0 in c:\\users\\morae\\miniconda3\\envs\\s202\\lib\\site-packages (from moviepy) (2.2.3)\n",
      "Requirement already satisfied: proglog<=1.0.0 in c:\\users\\morae\\miniconda3\\envs\\s202\\lib\\site-packages (from moviepy) (0.1.12)\n",
      "Requirement already satisfied: python-dotenv>=0.10 in c:\\users\\morae\\miniconda3\\envs\\s202\\lib\\site-packages (from moviepy) (1.1.0)\n",
      "Requirement already satisfied: pillow<12.0,>=9.2.0 in c:\\users\\morae\\miniconda3\\envs\\s202\\lib\\site-packages (from moviepy) (11.1.0)\n",
      "Requirement already satisfied: tqdm in c:\\users\\morae\\miniconda3\\envs\\s202\\lib\\site-packages (from proglog<=1.0.0->moviepy) (4.67.1)\n",
      "Requirement already satisfied: colorama in c:\\users\\morae\\miniconda3\\envs\\s202\\lib\\site-packages (from tqdm->proglog<=1.0.0->moviepy) (0.4.6)\n"
     ]
    }
   ],
   "source": [
    "import sys\n",
    "!{sys.executable} -m pip install moviepy"
   ]
  }
 ],
 "metadata": {
  "kernelspec": {
   "display_name": "Python 3",
   "language": "python",
   "name": "python3"
  },
  "language_info": {
   "codemirror_mode": {
    "name": "ipython",
    "version": 3
   },
   "file_extension": ".py",
   "mimetype": "text/x-python",
   "name": "python",
   "nbconvert_exporter": "python",
   "pygments_lexer": "ipython3",
   "version": "3.13.2"
  }
 },
 "nbformat": 4,
 "nbformat_minor": 5
}
